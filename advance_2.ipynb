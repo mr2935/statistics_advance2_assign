{
 "cells": [
  {
   "cell_type": "markdown",
   "id": "45326906-2d15-4697-9184-fb21d4f4f932",
   "metadata": {},
   "source": [
    "QUESTION 1"
   ]
  },
  {
   "cell_type": "markdown",
   "id": "f2fda260-b747-4f68-ad38-071a90ca40f4",
   "metadata": {},
   "source": [
    "PDF stands for Probability Density Function. It is a fundamental concept in probability theory and statistics used to describe the probability distribution of a continuous random variable. The PDF represents the relative likelihood of the random variable taking on a specific value within a given range.\n",
    "\n",
    "For a continuous random variable X, the PDF is denoted as f(x), where 'x' is a specific value of the random variable. The properties of the PDF are as follows:\n",
    "\n",
    "1. Non-Negativity: The PDF values are non-negative for all values of 'x': f(x) ≥ 0.\n",
    "\n",
    "2. Area under the Curve: The total area under the PDF curve over the entire range of 'x' is equal to 1. This means that the probability of X falling within the entire range of possible values is 1.\n",
    "\n",
    "The probability that the random variable X falls within a specific interval [a, b] can be calculated by integrating the PDF over that interval:\n",
    "\n",
    "P(a ≤ X ≤ b) = ∫[a to b] f(x) dx\n",
    "\n",
    "The PDF is used to calculate probabilities of the continuous random variable falling within certain ranges and to perform various statistical analyses. It also helps in visualizing and understanding the shape and characteristics of the probability distribution of the random variable.\n",
    "\n"
   ]
  },
  {
   "cell_type": "markdown",
   "id": "bcda9f79-694e-4a4d-9160-58d74b81dc4c",
   "metadata": {},
   "source": [
    "QUESTION 2"
   ]
  },
  {
   "cell_type": "markdown",
   "id": "038a41b8-0f22-4a66-9b9f-c7125e19c84c",
   "metadata": {},
   "source": [
    "here are several types of probability distributions, and they can be broadly categorized into two main classes: discrete probability distributions and continuous probability distributions.\n",
    "\n",
    "1. **Discrete Probability Distributions:**\n",
    "   Discrete probability distributions are used for random variables with a finite or countable number of possible outcomes. In this type of distribution, the probability mass function (PMF) gives the probability of each specific outcome occurring.\n",
    "\n",
    "   Examples of discrete probability distributions include:\n",
    "   - Bernoulli Distribution\n",
    "   - Binomial Distribution\n",
    "   - Poisson Distribution\n",
    "   - Geometric Distribution\n",
    "   - Hypergeometric Distribution\n",
    "   - Negative Binomial Distribution\n",
    "   - Multinomial Distribution\n",
    "\n",
    "2. **Continuous Probability Distributions:**\n",
    "   Continuous probability distributions are used for random variables that can take on any value within a continuous range. In this type of distribution, the probability density function (PDF) gives the relative likelihood of the random variable falling within a particular interval.\n",
    "\n",
    "   Examples of continuous probability distributions include:\n",
    "   - Normal Distribution (Gaussian Distribution)\n",
    "   - Uniform Distribution\n",
    "   - Exponential Distribution\n",
    "   - Gamma Distribution\n",
    "   - Beta Distribution\n",
    "   - Weibull Distribution\n",
    "   - Log-Normal Distribution\n",
    "   - Chi-Square Distribution\n",
    "   - Student's t-Distribution\n",
    "   - F-Distribution\n",
    "\n",
    "Each type of probability distribution has its own characteristics and applications in various fields of statistics, data analysis, and modeling. The choice of the appropriate distribution depends on the nature of the data and the underlying assumptions of the problem at hand.\n"
   ]
  },
  {
   "cell_type": "markdown",
   "id": "14b23c3d-357c-4fdb-98b2-42a64f857931",
   "metadata": {},
   "source": [
    "QUESTION 3"
   ]
  },
  {
   "cell_type": "code",
   "execution_count": 1,
   "id": "928a4682-9fb9-4a2a-85eb-2bb4ec90f810",
   "metadata": {},
   "outputs": [
    {
     "name": "stdout",
     "output_type": "stream",
     "text": [
      "PDF at point 1.5 is: 0.12951759566589174\n"
     ]
    }
   ],
   "source": [
    "import math\n",
    "\n",
    "def normal_pdf(x, mean, std_dev):\n",
    "    \"\"\"\n",
    "    Calculate the probability density function (PDF) of a normal distribution\n",
    "    at a given point.\n",
    "\n",
    "    Parameters:\n",
    "        x (float): The point at which to calculate the PDF.\n",
    "        mean (float): The mean of the normal distribution.\n",
    "        std_dev (float): The standard deviation of the normal distribution.\n",
    "\n",
    "    Returns:\n",
    "        float: The probability density function (PDF) at the given point.\n",
    "    \"\"\"\n",
    "    if std_dev <= 0:\n",
    "        raise ValueError(\"Standard deviation must be positive.\")\n",
    "\n",
    "    coeff = 1 / (std_dev * math.sqrt(2 * math.pi))\n",
    "    exponent = -(x - mean) ** 2 / (2 * std_dev ** 2)\n",
    "    pdf = coeff * math.exp(exponent)\n",
    "    return pdf\n",
    "mean = 0\n",
    "std_dev = 1\n",
    "point = 1.5\n",
    "pdf_at_point = normal_pdf(point, mean, std_dev)\n",
    "print(f\"PDF at point {point} is: {pdf_at_point}\")\n"
   ]
  },
  {
   "cell_type": "markdown",
   "id": "a8e9da48-3bce-40a1-9399-7a3e47081dc2",
   "metadata": {},
   "source": [
    "QUESTION 4"
   ]
  },
  {
   "cell_type": "markdown",
   "id": "e96d0d95-63a7-4298-ac72-f5220201400c",
   "metadata": {},
   "source": [
    "The properties of the Binomial distribution are as follows:\n",
    "\n",
    "1. **Fixed Number of Trials:** The Binomial distribution models a fixed number of independent trials, denoted as 'n'. Each trial can have only two possible outcomes: success or failure.\n",
    "\n",
    "2. **Independent Trials:** Each trial in the Binomial distribution is assumed to be independent of the others. The outcome of one trial does not influence the outcome of other trials.\n",
    "\n",
    "3. **Constant Probability of Success:** The probability of success in each trial is denoted as 'p', and it remains constant across all trials. The probability of failure in each trial is '1 - p'.\n",
    "\n",
    "4. **Discrete Outcomes:** The Binomial distribution deals with discrete random variables, meaning the number of successes in 'n' trials can only take on specific integer values.\n",
    "\n",
    "5. **Binomial Probability Mass Function (PMF):** The Binomial distribution has a probability mass function (PMF) that gives the probability of obtaining exactly 'k' successes in 'n' trials. The PMF is given by the formula: P(X = k) = C(n, k) * p^k * (1 - p)^(n - k), where X is the random variable representing the number of successes, C(n, k) is the binomial coefficient (n choose k), p is the probability of success, and (1 - p) is the probability of failure.\n",
    "\n",
    "Examples of events where Binomial distribution can be applied:\n",
    "\n",
    "1. **Coin Flips:** The outcome of flipping a fair coin (e.g., heads or tails) can be modeled using a Binomial distribution. Each flip is an independent trial, with a constant probability of success (getting heads or tails) of 0.5.\n",
    "\n",
    "2. **Quality Control:** In a manufacturing process, the number of defective items in a production batch can be modeled using a Binomial distribution. Each item in the batch is inspected independently, and there is a constant probability of a defective item being produced. The Binomial distribution can help assess the likelihood of specific numbers of defective items in the batch.\n"
   ]
  },
  {
   "cell_type": "markdown",
   "id": "71207196-38d6-46fb-9bbb-79a4fff9d253",
   "metadata": {},
   "source": [
    "QUESTION 6"
   ]
  },
  {
   "cell_type": "markdown",
   "id": "e4fdbacb-29a2-4367-adec-254e9ca3c7d5",
   "metadata": {},
   "source": [
    "import math\n",
    "\n",
    "def poisson_cdf(k, mean):\n",
    "    \"\"\"\n",
    "    Calculate the cumulative distribution function (CDF) of a Poisson distribution\n",
    "    at a given point.\n",
    "\n",
    "    Parameters:\n",
    "        k (int): The point at which to calculate the CDF (the number of events).\n",
    "        mean (float): The mean of the Poisson distribution.\n",
    "\n",
    "    Returns:\n",
    "        float: The cumulative distribution function (CDF) at the given point.\n",
    "    \"\"\"\n",
    "    if k < 0:\n",
    "        raise ValueError(\"The point (k) must be a non-negative integer.\")\n",
    "    if mean <= 0:\n",
    "        raise ValueError(\"The mean (λ) must be positive.\")\n",
    "\n",
    "    cdf = 0.0\n",
    "    term = 1.0\n",
    "    for i in range(k + 1):\n",
    "        cdf += term * math.exp(-mean)\n",
    "        term *= mean / (i + 1)\n",
    "    return cdf\n",
    "mean = 2.5\n",
    "point = 3\n",
    "cdf_at_point = poisson_cdf(point, mean)\n",
    "print(f\"CDF at point {point} is: {cdf_at_point}\")\n"
   ]
  },
  {
   "cell_type": "markdown",
   "id": "78bd8905-d2d1-4136-b6bd-3721fcca8121",
   "metadata": {},
   "source": [
    "QUESTION 7"
   ]
  },
  {
   "cell_type": "markdown",
   "id": "34427203-7949-4e85-8def-6df3995a223f",
   "metadata": {},
   "source": [
    "The Binomial distribution and the Poisson distribution are two different types of probability distributions used to model different types of random events. While both distributions deal with counting the number of occurrences of a particular event, they have distinct characteristics and are applicable in different scenarios.\n",
    "\n",
    "1. **Nature of Events:**\n",
    "   - Binomial Distribution: The Binomial distribution is used to model a fixed number of independent trials, where each trial can have only two possible outcomes (success or failure). The trials are assumed to be independent, and the probability of success remains constant throughout all trials.\n",
    "   - Poisson Distribution: The Poisson distribution is used to model the number of events that occur in a fixed interval of time or space. It is commonly used when events occur at a constant rate and independently of each other, but the number of events is not fixed.\n",
    "\n",
    "2. **Number of Trials/Events:**\n",
    "   - Binomial Distribution: The Binomial distribution deals with a fixed number of trials ('n') and counts the number of successes in these trials.\n",
    "   - Poisson Distribution: The Poisson distribution does not have a fixed number of trials; it models the number of events that occur in a specific interval, and the count can range from 0 to infinity.\n",
    "\n",
    "3. **Probability Parameters:**\n",
    "   - Binomial Distribution: The Binomial distribution has two parameters: 'n' (number of trials) and 'p' (probability of success in each trial).\n",
    "   - Poisson Distribution: The Poisson distribution has a single parameter: 'λ' (lambda), which represents the average rate of events occurring in the given interval.\n"
   ]
  },
  {
   "cell_type": "markdown",
   "id": "d67f2334-fd89-48cf-99d8-971c60887cfb",
   "metadata": {},
   "source": [
    "QUESTION 5"
   ]
  },
  {
   "cell_type": "code",
   "execution_count": null,
   "id": "8aff0e49-0a12-451b-b54f-f576457f8fd3",
   "metadata": {},
   "outputs": [],
   "source": []
  }
 ],
 "metadata": {
  "kernelspec": {
   "display_name": "Python 3 (ipykernel)",
   "language": "python",
   "name": "python3"
  },
  "language_info": {
   "codemirror_mode": {
    "name": "ipython",
    "version": 3
   },
   "file_extension": ".py",
   "mimetype": "text/x-python",
   "name": "python",
   "nbconvert_exporter": "python",
   "pygments_lexer": "ipython3",
   "version": "3.10.8"
  }
 },
 "nbformat": 4,
 "nbformat_minor": 5
}
